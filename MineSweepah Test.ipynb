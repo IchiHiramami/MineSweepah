{
 "cells": [
  {
   "cell_type": "code",
   "execution_count": 51,
   "id": "079057a5",
   "metadata": {},
   "outputs": [],
   "source": [
    "#Code Testing for MineSweepah Game\n",
    "\n",
    "import random\n",
    "from copy import deepcopy\n",
    "from collections import deque"
   ]
  },
  {
   "cell_type": "code",
   "execution_count": 52,
   "id": "fce1a20d",
   "metadata": {},
   "outputs": [],
   "source": [
    "setting = (5,5,1)\n"
   ]
  },
  {
   "cell_type": "code",
   "execution_count": 53,
   "id": "e6f21f39",
   "metadata": {},
   "outputs": [
    {
     "name": "stdout",
     "output_type": "stream",
     "text": [
      "0 |  1   2   3   4   5 \n",
      "--- --- --- --- --- ---\n",
      "1 |  -   -   -   -   - \n",
      "2 |  -   -   -   -   - \n",
      "3 |  -   -   -   -   - \n",
      "4 |  -   -   -   -   - \n",
      "5 |  -   -   -   -   - \n"
     ]
    }
   ],
   "source": [
    "gB, pB = [],[]\n",
    "cellWidth = 3\n",
    "\n",
    "\n",
    "# header for player readability\n",
    "head = [\"0 |\"] + [str(i+1).center(cellWidth) for i in range(setting[0])]\n",
    "div = [\"-\" * len(h) for h in head]\n",
    "gB.append(head)\n",
    "gB.append(div)\n",
    "\n",
    "# actual playable area\n",
    "for i in range(setting[1]):\n",
    "    sideLabel = str(i+1).center(2) + \"|\"\n",
    "    blanks = [\" - \" for _ in range(setting[0])]\n",
    "    gB.append([sideLabel] + blanks)\n",
    "\n",
    "# player copy and system copy\n",
    "pB = deepcopy(gB)\n",
    "for row in pB:\n",
    "    print(*row)\n"
   ]
  },
  {
   "cell_type": "code",
   "execution_count": 54,
   "id": "643ba52d",
   "metadata": {},
   "outputs": [
    {
     "name": "stdout",
     "output_type": "stream",
     "text": [
      "0 |  1   2   3   4   5 \n",
      "--- --- --- --- --- ---\n",
      "1 |  1   *   2   1   0 \n",
      "2 |  1   2   *   2   1 \n",
      "3 |  0   1   2   3   * \n",
      "4 |  1   1   1   *   2 \n",
      "5 |  *   1   1   1   1 \n"
     ]
    }
   ],
   "source": [
    "for row in gB[2:]:\n",
    "    for _ in range(setting[2]):\n",
    "        row[(random.randint(1, len(row)-1))] = \" * \"\n",
    "# 8 way \n",
    "for row in range(2, len(gB)):\n",
    "    for column in range(1, len(gB[row])):\n",
    "        if gB[row][column] != \" * \":\n",
    "            count = 0\n",
    "            for dRow, dColumn in [(-1,0),(1,0),(0,-1),(0,1),(-1,1),(1,1),(-1,-1),(1,-1)]:\n",
    "                newRow, newColumn = row + dRow, column + dColumn\n",
    "                if 2 <= newRow < len(gB) and 1 <= newColumn < len(gB[newRow]):\n",
    "                    if gB[newRow][newColumn] == \" * \":\n",
    "                        count += 1\n",
    "            gB[row][column] = str(count).center(cellWidth)\n",
    "# pad integer values to 3 characters\n",
    "for row in range(2, len(gB)):\n",
    "    for column in range(1, len(gB)-1):\n",
    "        if isinstance(gB[row][column], int):\n",
    "            gB[row][column] = str(gB[row][column]).center(cellWidth)\n",
    "for row in gB:\n",
    "    print(*row) #debugger\n",
    "    \n"
   ]
  },
  {
   "cell_type": "code",
   "execution_count": 55,
   "id": "2534407b",
   "metadata": {},
   "outputs": [
    {
     "name": "stdout",
     "output_type": "stream",
     "text": [
      " 0 \n",
      "['3 |', ' 0 ', ' 1 ', ' 2 ', ' 3 ', ' * ']\n"
     ]
    }
   ],
   "source": [
    "m = ('R' ,1 , 3)\n",
    "gBCoordinate = gB[m[2] + 1][m[1]]\n",
    "print(gB[m[2] + 1][m[1]]) #DEBUG LINE\n",
    "print(gB[m[2] + 1])       #DEBUG LINE\n",
    "if m[0] == 'R':\n",
    "    if gBCoordinate == \" * \":\n",
    "        print(\"GAMEOVER!\")\n",
    "    elif gBCoordinate == \" 0 \":\n",
    "        \n",
    "        pass\n",
    "    else:\n",
    "        pB[m[2]+1][m[1]] = gBCoordinate\n",
    "        for row in pB:\n",
    "            print(*row)"
   ]
  },
  {
   "cell_type": "code",
   "execution_count": 56,
   "id": "8f35e441",
   "metadata": {},
   "outputs": [],
   "source": [
    "def showBoard(pB):\n",
    "    for row in pB:\n",
    "        print(*row)"
   ]
  },
  {
   "cell_type": "code",
   "execution_count": 57,
   "id": "02a877ec",
   "metadata": {},
   "outputs": [
    {
     "name": "stdout",
     "output_type": "stream",
     "text": [
      "0 |  1   2   3   4   5 \n",
      "--- --- --- --- --- ---\n",
      "1 |  -   -   -   -   - \n",
      "2 |  1   -   -   -   - \n",
      "3 |  0   1   -   -   - \n",
      "4 |  1   -   -   -   - \n",
      "5 |  -   -   -   -   - \n"
     ]
    }
   ],
   "source": [
    "targetColumn = m[1]\n",
    "targetRow = m[2] + 1\n",
    "\n",
    "try:\n",
    "    gBCoordinate = gB[m[2] + 1][m[1]]\n",
    "except (IndexError):\n",
    "    print(\"ERROR! Your coordinate is not within the Game Board!\")\n",
    "    showBoard(pB)\n",
    "    \n",
    "\n",
    "if m[0] == 'R':\n",
    "    if gBCoordinate == \" * \":\n",
    "        print(\"GAMEOVER!\")\n",
    "        \n",
    "    elif gBCoordinate == \" 0 \":\n",
    "        checked = set()\n",
    "        q = deque()\n",
    "        q.append((targetRow, targetColumn))\n",
    "\n",
    "        while q:\n",
    "            row, column = q.popleft() #FIFO -> similar to pop(0) in lists\n",
    "            if (row, column) in checked:\n",
    "                continue\n",
    "            checked.add((row, column))\n",
    "\n",
    "            pB[row][column] = gB[row][column]\n",
    "\n",
    "            if gB[row][column] != \" 0 \":\n",
    "                continue\n",
    "\n",
    "            direction = [(-1,0),(1,0),(0,-1),(0,1)]\n",
    "            beside = []\n",
    "            for dRow, dColumn in direction:\n",
    "                r, c = row + dRow, column + dColumn\n",
    "                if 0 <= r < len(gB) and 0 <= c < len(gB[targetRow]):\n",
    "                    beside.append((r,c))\n",
    "\n",
    "            for r, c in beside:\n",
    "                if (r,c) not in checked and gB[r][c] != \" * \":\n",
    "                    q.append((r,c))       \n",
    "\n",
    "    else:\n",
    "        pB[targetRow][targetColumn] = gBCoordinate\n",
    "    \n",
    "    showBoard(pB)\n",
    "\n",
    "elif m[0] == 'F':\n",
    "    if pB[targetRow][targetColumn] == \" - \":\n",
    "        pB[targetRow][targetColumn] = \" > \"\n",
    "    else:\n",
    "        print(\"This tile is already flagged or revealed! Try another tile\")\n",
    "    showBoard(pB)\n",
    "\n",
    "elif m[0] == 'U':\n",
    "    if pB[targetRow][targetColumn] == \" > \":\n",
    "        pB[targetRow][targetColumn] = \" - \"\n",
    "    else:\n",
    "        print(\"This tile has not been flagged or already revealed! Try another tile\")\n",
    "\n",
    "    showBoard(pB)"
   ]
  }
 ],
 "metadata": {
  "kernelspec": {
   "display_name": "Python 3",
   "language": "python",
   "name": "python3"
  },
  "language_info": {
   "codemirror_mode": {
    "name": "ipython",
    "version": 3
   },
   "file_extension": ".py",
   "mimetype": "text/x-python",
   "name": "python",
   "nbconvert_exporter": "python",
   "pygments_lexer": "ipython3",
   "version": "3.12.10"
  }
 },
 "nbformat": 4,
 "nbformat_minor": 5
}
